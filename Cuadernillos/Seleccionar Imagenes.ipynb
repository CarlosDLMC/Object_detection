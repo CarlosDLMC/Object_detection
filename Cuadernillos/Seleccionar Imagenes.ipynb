{
 "cells": [
  {
   "cell_type": "code",
   "execution_count": 1,
   "id": "2661e917-8024-4b58-ba3c-7b2e6a04c1f8",
   "metadata": {},
   "outputs": [],
   "source": [
    "import cv2 \n",
    "import uuid\n",
    "import os\n",
    "import time"
   ]
  },
  {
   "cell_type": "code",
   "execution_count": 2,
   "id": "36d0b8d3-64dd-4570-8641-609517bbb340",
   "metadata": {},
   "outputs": [],
   "source": [
    "labels = ['santander', 'tesla']\n",
    "number_imgs = 5"
   ]
  },
  {
   "cell_type": "code",
   "execution_count": 9,
   "id": "59470375-6fa5-4fa4-8029-b7fb6f25e680",
   "metadata": {},
   "outputs": [],
   "source": [
    "IMAGES_PATH = os.path.join('dataset')"
   ]
  },
  {
   "cell_type": "code",
   "execution_count": 14,
   "id": "792b0465-49bb-4920-8097-5c6abdcf248a",
   "metadata": {},
   "outputs": [],
   "source": [
    "LABELIMG_PATH = os.path.join('labelimg')"
   ]
  },
  {
   "cell_type": "code",
   "execution_count": 15,
   "id": "276d63b3-e0f3-4dc8-a2ba-96c493ee8f1c",
   "metadata": {},
   "outputs": [
    {
     "name": "stderr",
     "output_type": "stream",
     "text": [
      "Cloning into 'labelimg'...\n"
     ]
    }
   ],
   "source": [
    "if not os.path.exists(LABELIMG_PATH):\n",
    "    !mkdir {LABELIMG_PATH}\n",
    "    !git clone https://github.com/tzutalin/labelImg {LABELIMG_PATH}"
   ]
  },
  {
   "cell_type": "code",
   "execution_count": 16,
   "id": "4b1c14cc-90dc-42a8-a354-f6e2413358dd",
   "metadata": {},
   "outputs": [],
   "source": [
    "!cd {LABELIMG_PATH} && pyrcc5 -o libs/resources.py resources.qrc"
   ]
  },
  {
   "cell_type": "code",
   "execution_count": 17,
   "id": "2e2b05bf-e1d0-4f3a-91bc-bac6fbea37a8",
   "metadata": {},
   "outputs": [
    {
     "name": "stdout",
     "output_type": "stream",
     "text": [
      "Image:C:\\Users\\X979787\\Documentos\\object_detection\\Cuadernillos\\dataset\\santander\\logo_santander.png -> Annotation:C:/Users/X979787/Documentos/object_detection/Cuadernillos/dataset\\logo_santander.xml\n",
      "Image:C:\\Users\\X979787\\Documentos\\object_detection\\Cuadernillos\\dataset\\santander\\santander_banco_grande.jpg -> Annotation:C:/Users/X979787/Documentos/object_detection/Cuadernillos/dataset\\santander_banco_grande.xml\n",
      "Image:C:\\Users\\X979787\\Documentos\\object_detection\\Cuadernillos\\dataset\\santander\\santander_banco_normal.jpeg -> Annotation:C:/Users/X979787/Documentos/object_detection/Cuadernillos/dataset\\santander_banco_normal.xml\n",
      "Image:C:\\Users\\X979787\\Documentos\\object_detection\\Cuadernillos\\dataset\\santander\\santander_banco_pequeno.jpg -> Annotation:C:/Users/X979787/Documentos/object_detection/Cuadernillos/dataset\\santander_banco_pequeno.xml\n",
      "Image:C:\\Users\\X979787\\Documentos\\object_detection\\Cuadernillos\\dataset\\santander\\santander_cajero.jpg -> Annotation:C:/Users/X979787/Documentos/object_detection/Cuadernillos/dataset\\santander_cajero.xml\n",
      "Image:C:\\Users\\X979787\\Documentos\\object_detection\\Cuadernillos\\dataset\\santander\\santander_cola.jpeg -> Annotation:C:/Users/X979787/Documentos/object_detection/Cuadernillos/dataset\\santander_cola.xml\n",
      "Image:C:\\Users\\X979787\\Documentos\\object_detection\\Cuadernillos\\dataset\\santander\\santander_edificio.jpg -> Annotation:C:/Users/X979787/Documentos/object_detection/Cuadernillos/dataset\\santander_edificio.xml\n",
      "Image:C:\\Users\\X979787\\Documentos\\object_detection\\Cuadernillos\\dataset\\santander\\santander_fachada.jpg -> Annotation:C:/Users/X979787/Documentos/object_detection/Cuadernillos/dataset\\santander_fachada.xml\n",
      "Image:C:\\Users\\X979787\\Documentos\\object_detection\\Cuadernillos\\dataset\\santander\\santander_fuente.jpg -> Annotation:C:/Users/X979787/Documentos/object_detection/Cuadernillos/dataset\\santander_fuente.xml\n",
      "Cancel creation.\n",
      "Image:C:\\Users\\X979787\\Documentos\\object_detection\\Cuadernillos\\dataset\\santander\\santander_login.jpg -> Annotation:C:/Users/X979787/Documentos/object_detection/Cuadernillos/dataset\\santander_login.xml\n",
      "Image:C:\\Users\\X979787\\Documentos\\object_detection\\Cuadernillos\\dataset\\santander\\santander_movil.jpg -> Annotation:C:/Users/X979787/Documentos/object_detection/Cuadernillos/dataset\\santander_movil.xml\n",
      "Image:C:\\Users\\X979787\\Documentos\\object_detection\\Cuadernillos\\dataset\\santander\\santander_servicenow.jpg -> Annotation:C:/Users/X979787/Documentos/object_detection/Cuadernillos/dataset\\santander_servicenow.xml\n",
      "Image:C:\\Users\\X979787\\Documentos\\object_detection\\Cuadernillos\\dataset\\tesla\\tesla_bonito.jpg -> Annotation:C:/Users/X979787/Documentos/object_detection/Cuadernillos/dataset\\tesla_bonito.xml\n",
      "Image:C:\\Users\\X979787\\Documentos\\object_detection\\Cuadernillos\\dataset\\tesla\\tesla_fachada.jpg -> Annotation:C:/Users/X979787/Documentos/object_detection/Cuadernillos/dataset\\tesla_fachada.xml\n",
      "Image:C:\\Users\\X979787\\Documentos\\object_detection\\Cuadernillos\\dataset\\tesla\\tesla_logo_concesionario.jpg -> Annotation:C:/Users/X979787/Documentos/object_detection/Cuadernillos/dataset\\tesla_logo_concesionario.xml\n",
      "Image:C:\\Users\\X979787\\Documentos\\object_detection\\Cuadernillos\\dataset\\tesla\\tesla_logo_movil.jpg -> Annotation:C:/Users/X979787/Documentos/object_detection/Cuadernillos/dataset\\tesla_logo_movil.xml\n",
      "Image:C:\\Users\\X979787\\Documentos\\object_detection\\Cuadernillos\\dataset\\tesla\\tesla_logo_movil_2.jpg -> Annotation:C:/Users/X979787/Documentos/object_detection/Cuadernillos/dataset\\tesla_logo_movil_2.xml\n",
      "Image:C:\\Users\\X979787\\Documentos\\object_detection\\Cuadernillos\\dataset\\tesla\\tesla_logo_negro.jpg -> Annotation:C:/Users/X979787/Documentos/object_detection/Cuadernillos/dataset\\tesla_logo_negro.xml\n",
      "Image:C:\\Users\\X979787\\Documentos\\object_detection\\Cuadernillos\\dataset\\tesla\\tesla_maletero.jpg -> Annotation:C:/Users/X979787/Documentos/object_detection/Cuadernillos/dataset\\tesla_maletero.xml\n",
      "Image:C:\\Users\\X979787\\Documentos\\object_detection\\Cuadernillos\\dataset\\tesla\\tesla_movil.png -> Annotation:C:/Users/X979787/Documentos/object_detection/Cuadernillos/dataset\\tesla_movil.xml\n",
      "Image:C:\\Users\\X979787\\Documentos\\object_detection\\Cuadernillos\\dataset\\tesla\\tesla_partido.jpg -> Annotation:C:/Users/X979787/Documentos/object_detection/Cuadernillos/dataset\\tesla_partido.xml\n",
      "Image:C:\\Users\\X979787\\Documentos\\object_detection\\Cuadernillos\\dataset\\tesla\\tesla_principal.jpg -> Annotation:C:/Users/X979787/Documentos/object_detection/Cuadernillos/dataset\\tesla_principal.xml\n",
      "Image:C:\\Users\\X979787\\Documentos\\object_detection\\Cuadernillos\\dataset\\tesla\\tesla_volante.jpg -> Annotation:C:/Users/X979787/Documentos/object_detection/Cuadernillos/dataset\\tesla_volante.xml\n"
     ]
    }
   ],
   "source": [
    "!cd {LABELIMG_PATH} && python labelImg.py"
   ]
  },
  {
   "cell_type": "code",
   "execution_count": null,
   "id": "d3e57b6f-6ffe-4fc2-9fe7-0c92db51cdc1",
   "metadata": {},
   "outputs": [],
   "source": []
  }
 ],
 "metadata": {
  "kernelspec": {
   "display_name": "env",
   "language": "python",
   "name": "env"
  },
  "language_info": {
   "codemirror_mode": {
    "name": "ipython",
    "version": 3
   },
   "file_extension": ".py",
   "mimetype": "text/x-python",
   "name": "python",
   "nbconvert_exporter": "python",
   "pygments_lexer": "ipython3",
   "version": "3.11.0"
  }
 },
 "nbformat": 4,
 "nbformat_minor": 5
}
